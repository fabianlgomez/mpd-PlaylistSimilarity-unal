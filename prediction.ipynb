import pandas as pd
from pathlib import Path
root = Path().resolve()
out = Path(root/'data/')  # Ajusta la ruta según tu caso

# Cargar los DataFrames desde Parquet
df_complete = pd.read_parquet(out / "processed/playlist_tracks_complete.parquet")
df_imputed  = pd.read_parquet(out / "processed/playlist_tracks_imputed.parquet")

# Ahora puedes trabajar con ellos como cualquier DataFrame de pandas
print(df_complete.head())
print(df_imputed.head())
