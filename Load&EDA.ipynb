{
 "cells": [
  {
   "cell_type": "markdown",
   "metadata": {},
   "source": [
    "## 1. Carga de Datos"
   ]
  },
  {
   "cell_type": "markdown",
   "metadata": {},
   "source": [
    "1.1 – Cargar playlists"
   ]
  },
  {
   "cell_type": "code",
   "execution_count": 2,
   "metadata": {},
   "outputs": [
    {
     "name": "stdout",
     "output_type": "stream",
     "text": [
      "['date', 'version', 'playlists', 'name', 'description']\n"
     ]
    }
   ],
   "source": [
    "import json, pandas as pd\n",
    "from pathlib import Path\n",
    "\n",
    "# root = Path(__file__).resolve().parents[1]   # carpeta proyecto\n",
    "root = Path().resolve()\n",
    "with open(root/'data/challenge_set.json', 'r', encoding='utf-8') as f:\n",
    "    playlists_raw = json.load(f)\n",
    "\n",
    "# Normalizar: una fila por playlist\n",
    "playlists_df = pd.json_normalize(\n",
    "    playlists_raw,\n",
    "    meta=['pid', 'name', 'num_tracks', 'num_holdouts', 'num_samples']\n",
    ")\n",
    "\n",
    "# Convierte la lista 'tracks' en una sola columna de listas\n",
    "print(playlists_df.columns.tolist())\n"
   ]
  },
  {
   "cell_type": "markdown",
   "metadata": {},
   "source": [
    "1.2 – Eliminar playlists vacías\n"
   ]
  },
  {
   "cell_type": "code",
   "execution_count": 3,
   "metadata": {},
   "outputs": [
    {
     "name": "stdout",
     "output_type": "stream",
     "text": [
      "Playlists después del filtro: 9000\n"
     ]
    }
   ],
   "source": [
    "playlists = playlists_raw['playlists']  # Extraer la lista de playlists\n",
    "playlists_df = pd.json_normalize(\n",
    "    playlists,\n",
    "    meta=['pid', 'name', 'num_tracks', 'num_holdouts', 'num_samples']\n",
    ")\n",
    "playlists_df = playlists_df[playlists_df['num_samples'] > 0].copy()\n",
    "print(f\"Playlists después del filtro: {len(playlists_df)}\")"
   ]
  },
  {
   "cell_type": "markdown",
   "metadata": {},
   "source": [
    "1.3 – Cargar features de AcousticBrainz"
   ]
  },
  {
   "cell_type": "code",
   "execution_count": 5,
   "metadata": {},
   "outputs": [
    {
     "name": "stdout",
     "output_type": "stream",
     "text": [
      "Columnas originales: 91\n",
      "Columnas tras reducir: 78\n",
      "Tamaño en memoria (MB): 65.021376\n"
     ]
    },
    {
     "data": {
      "text/html": [
       "<div>\n",
       "<style scoped>\n",
       "    .dataframe tbody tr th:only-of-type {\n",
       "        vertical-align: middle;\n",
       "    }\n",
       "\n",
       "    .dataframe tbody tr th {\n",
       "        vertical-align: top;\n",
       "    }\n",
       "\n",
       "    .dataframe thead th {\n",
       "        text-align: right;\n",
       "    }\n",
       "</style>\n",
       "<table border=\"1\" class=\"dataframe\">\n",
       "  <thead>\n",
       "    <tr style=\"text-align: right;\">\n",
       "      <th></th>\n",
       "      <th>mbid</th>\n",
       "      <th>genre_mb</th>\n",
       "      <th>bpm</th>\n",
       "      <th>energy</th>\n",
       "      <th>danceability_ll</th>\n",
       "      <th>loudness</th>\n",
       "      <th>rating_votes</th>\n",
       "      <th>genre_dortmund_alternative</th>\n",
       "      <th>genre_dortmund_blues</th>\n",
       "      <th>genre_dortmund_electronic</th>\n",
       "      <th>...</th>\n",
       "      <th>mood_acoustic_prob</th>\n",
       "      <th>mood_aggressive_prob</th>\n",
       "      <th>mood_electronic_prob</th>\n",
       "      <th>mood_happy_prob</th>\n",
       "      <th>mood_party_prob</th>\n",
       "      <th>mood_relaxed_prob</th>\n",
       "      <th>mood_sad_prob</th>\n",
       "      <th>timbre_prob</th>\n",
       "      <th>tonal_atonal_prob</th>\n",
       "      <th>voice_instrumental_prob</th>\n",
       "    </tr>\n",
       "  </thead>\n",
       "  <tbody>\n",
       "    <tr>\n",
       "      <th>0</th>\n",
       "      <td>302944eb-7cb7-4045-b99c-c440c362718f</td>\n",
       "      <td>None</td>\n",
       "      <td>125.898476</td>\n",
       "      <td>4.910242</td>\n",
       "      <td>1.067135</td>\n",
       "      <td>0.816509</td>\n",
       "      <td>None</td>\n",
       "      <td>0.012931</td>\n",
       "      <td>0.004027</td>\n",
       "      <td>0.958349</td>\n",
       "      <td>...</td>\n",
       "      <td>0.927582</td>\n",
       "      <td>0.660399</td>\n",
       "      <td>0.905014</td>\n",
       "      <td>0.967353</td>\n",
       "      <td>0.660808</td>\n",
       "      <td>0.927280</td>\n",
       "      <td>0.527017</td>\n",
       "      <td>0.999070</td>\n",
       "      <td>0.990423</td>\n",
       "      <td>0.917732</td>\n",
       "    </tr>\n",
       "    <tr>\n",
       "      <th>1</th>\n",
       "      <td>466973b8-6f13-4cdd-aed5-1c8cd6b26fb4</td>\n",
       "      <td>None</td>\n",
       "      <td>128.037704</td>\n",
       "      <td>4.296187</td>\n",
       "      <td>0.937844</td>\n",
       "      <td>0.785428</td>\n",
       "      <td>None</td>\n",
       "      <td>0.001149</td>\n",
       "      <td>0.001203</td>\n",
       "      <td>0.991147</td>\n",
       "      <td>...</td>\n",
       "      <td>0.999994</td>\n",
       "      <td>1.000000</td>\n",
       "      <td>0.917834</td>\n",
       "      <td>0.986929</td>\n",
       "      <td>0.999164</td>\n",
       "      <td>0.808827</td>\n",
       "      <td>0.692220</td>\n",
       "      <td>0.597991</td>\n",
       "      <td>0.913942</td>\n",
       "      <td>0.751203</td>\n",
       "    </tr>\n",
       "    <tr>\n",
       "      <th>2</th>\n",
       "      <td>4b789101-f2f6-45f9-8a20-16705010a7a0</td>\n",
       "      <td>None</td>\n",
       "      <td>NaN</td>\n",
       "      <td>NaN</td>\n",
       "      <td>NaN</td>\n",
       "      <td>NaN</td>\n",
       "      <td>None</td>\n",
       "      <td>NaN</td>\n",
       "      <td>NaN</td>\n",
       "      <td>NaN</td>\n",
       "      <td>...</td>\n",
       "      <td>NaN</td>\n",
       "      <td>NaN</td>\n",
       "      <td>NaN</td>\n",
       "      <td>NaN</td>\n",
       "      <td>NaN</td>\n",
       "      <td>NaN</td>\n",
       "      <td>NaN</td>\n",
       "      <td>NaN</td>\n",
       "      <td>NaN</td>\n",
       "      <td>NaN</td>\n",
       "    </tr>\n",
       "    <tr>\n",
       "      <th>3</th>\n",
       "      <td>172cc9c9-3725-452e-81fa-b26f7c3c6c31</td>\n",
       "      <td>None</td>\n",
       "      <td>NaN</td>\n",
       "      <td>NaN</td>\n",
       "      <td>NaN</td>\n",
       "      <td>NaN</td>\n",
       "      <td>None</td>\n",
       "      <td>NaN</td>\n",
       "      <td>NaN</td>\n",
       "      <td>NaN</td>\n",
       "      <td>...</td>\n",
       "      <td>NaN</td>\n",
       "      <td>NaN</td>\n",
       "      <td>NaN</td>\n",
       "      <td>NaN</td>\n",
       "      <td>NaN</td>\n",
       "      <td>NaN</td>\n",
       "      <td>NaN</td>\n",
       "      <td>NaN</td>\n",
       "      <td>NaN</td>\n",
       "      <td>NaN</td>\n",
       "    </tr>\n",
       "    <tr>\n",
       "      <th>4</th>\n",
       "      <td>0c14d62c-01f2-4b44-ab8d-a65c97405fde</td>\n",
       "      <td>None</td>\n",
       "      <td>99.882507</td>\n",
       "      <td>4.392409</td>\n",
       "      <td>1.130975</td>\n",
       "      <td>0.920415</td>\n",
       "      <td>None</td>\n",
       "      <td>0.027483</td>\n",
       "      <td>0.015242</td>\n",
       "      <td>0.860394</td>\n",
       "      <td>...</td>\n",
       "      <td>0.984700</td>\n",
       "      <td>0.717427</td>\n",
       "      <td>0.715190</td>\n",
       "      <td>0.945679</td>\n",
       "      <td>0.774370</td>\n",
       "      <td>0.579097</td>\n",
       "      <td>0.765254</td>\n",
       "      <td>0.791275</td>\n",
       "      <td>0.986704</td>\n",
       "      <td>0.988464</td>\n",
       "    </tr>\n",
       "  </tbody>\n",
       "</table>\n",
       "<p>5 rows × 78 columns</p>\n",
       "</div>"
      ],
      "text/plain": [
       "                                   mbid genre_mb         bpm    energy  \\\n",
       "0  302944eb-7cb7-4045-b99c-c440c362718f     None  125.898476  4.910242   \n",
       "1  466973b8-6f13-4cdd-aed5-1c8cd6b26fb4     None  128.037704  4.296187   \n",
       "2  4b789101-f2f6-45f9-8a20-16705010a7a0     None         NaN       NaN   \n",
       "3  172cc9c9-3725-452e-81fa-b26f7c3c6c31     None         NaN       NaN   \n",
       "4  0c14d62c-01f2-4b44-ab8d-a65c97405fde     None   99.882507  4.392409   \n",
       "\n",
       "   danceability_ll  loudness rating_votes  genre_dortmund_alternative  \\\n",
       "0         1.067135  0.816509         None                    0.012931   \n",
       "1         0.937844  0.785428         None                    0.001149   \n",
       "2              NaN       NaN         None                         NaN   \n",
       "3              NaN       NaN         None                         NaN   \n",
       "4         1.130975  0.920415         None                    0.027483   \n",
       "\n",
       "   genre_dortmund_blues  genre_dortmund_electronic  ...  mood_acoustic_prob  \\\n",
       "0              0.004027                   0.958349  ...            0.927582   \n",
       "1              0.001203                   0.991147  ...            0.999994   \n",
       "2                   NaN                        NaN  ...                 NaN   \n",
       "3                   NaN                        NaN  ...                 NaN   \n",
       "4              0.015242                   0.860394  ...            0.984700   \n",
       "\n",
       "   mood_aggressive_prob  mood_electronic_prob  mood_happy_prob  \\\n",
       "0              0.660399              0.905014         0.967353   \n",
       "1              1.000000              0.917834         0.986929   \n",
       "2                   NaN                   NaN              NaN   \n",
       "3                   NaN                   NaN              NaN   \n",
       "4              0.717427              0.715190         0.945679   \n",
       "\n",
       "   mood_party_prob  mood_relaxed_prob  mood_sad_prob  timbre_prob  \\\n",
       "0         0.660808           0.927280       0.527017     0.999070   \n",
       "1         0.999164           0.808827       0.692220     0.597991   \n",
       "2              NaN                NaN            NaN          NaN   \n",
       "3              NaN                NaN            NaN          NaN   \n",
       "4         0.774370           0.579097       0.765254     0.791275   \n",
       "\n",
       "   tonal_atonal_prob  voice_instrumental_prob  \n",
       "0           0.990423                 0.917732  \n",
       "1           0.913942                 0.751203  \n",
       "2                NaN                      NaN  \n",
       "3                NaN                      NaN  \n",
       "4           0.986704                 0.988464  \n",
       "\n",
       "[5 rows x 78 columns]"
      ]
     },
     "execution_count": 5,
     "metadata": {},
     "output_type": "execute_result"
    }
   ],
   "source": [
    "# 02_load_acoustic_flat_reduce.py\n",
    "import orjson, pandas as pd\n",
    "from pathlib import Path\n",
    "\n",
    "# root = Path(__file__).resolve().parents[1]\n",
    "\n",
    "# ---------- 1. Leer JSON ----------\n",
    "with open(root / 'data/acousticbrainz_data_updated_clean.json', 'rb') as f:\n",
    "    feat_dict = orjson.loads(f.read())          # {track_id: {...}}\n",
    "\n",
    "# ---------- 2. Configuración ----------\n",
    "# Categorías cuyo dict \"all\" queremos desplegar (mantendremos TODAS sus probabilidades)\n",
    "CAT_WITH_ALL = {\n",
    "    \"genre_dortmund\",\n",
    "    \"genre_electronic\",\n",
    "    \"genre_rosamerica\",\n",
    "    \"genre_tzanetakis\",\n",
    "    \"ismir04_rhythm\",\n",
    "}\n",
    "\n",
    "# Categorías de las que solo queremos *_value y *_prob (nada más)\n",
    "CATS_KEEP_VAL_PROB = [\n",
    "    \"danceability\", \"gender\",\n",
    "    \"mood_acoustic\", \"mood_aggressive\", \"mood_electronic\",\n",
    "    \"mood_happy\", \"mood_party\", \"mood_relaxed\", \"mood_sad\",\n",
    "    \"timbre\", \"tonal_atonal\", \"voice_instrumental\",\n",
    "]\n",
    "\n",
    "# ---------- 3. Aplanar ----------\n",
    "rows = []\n",
    "for track_id, info in feat_dict.items():\n",
    "    base = {k: v for k, v in info.items() if k != \"highlevel\"}  # bpm, energy…\n",
    "\n",
    "    hl = info.get(\"highlevel\", {})\n",
    "    for cat, cat_dict in hl.items():\n",
    "        # Siempre guarda value y prob (los filtraremos luego)\n",
    "        base[f\"{cat}_value\"] = cat_dict.get(\"value\")\n",
    "        base[f\"{cat}_prob\"]  = cat_dict.get(\"probability\")\n",
    "\n",
    "        # Si está en la lista de \"quiero todas las probs\", añade dict all\n",
    "        if cat in CAT_WITH_ALL:\n",
    "            for subk, p in cat_dict.get(\"all\", {}).items():\n",
    "                base[f\"{cat}_{subk}\"] = p\n",
    "\n",
    "    base[\"track_id\"] = track_id\n",
    "    rows.append(base)\n",
    "\n",
    "tracks_feat_df = pd.DataFrame(rows)\n",
    "\n",
    "# ---------- 4. Reducir columnas ----------\n",
    "value_cols = [f\"{c}_value\" for c in CATS_KEEP_VAL_PROB]\n",
    "prob_cols  = [f\"{c}_prob\"  for c in CATS_KEEP_VAL_PROB]\n",
    "\n",
    "other_cols = [\n",
    "    col for col in tracks_feat_df.columns\n",
    "    if not (col.endswith(\"_value\") or col.endswith(\"_prob\"))\n",
    "]\n",
    "\n",
    "desired_cols = other_cols + value_cols + prob_cols\n",
    "df_reduced = tracks_feat_df[desired_cols].copy()\n",
    "\n",
    "# ---------- 5. Optimizar memoria ----------\n",
    "float_cols = df_reduced.select_dtypes(\"float64\").columns\n",
    "df_reduced[float_cols] = df_reduced[float_cols].astype(\"float32\")\n",
    "\n",
    "print(\"Columnas originales:\", len(tracks_feat_df.columns))\n",
    "print(\"Columnas tras reducir:\", len(df_reduced.columns))\n",
    "print(\"Tamaño en memoria (MB):\",\n",
    "      df_reduced.memory_usage(deep=True).sum() / 1e6)\n",
    "\n",
    "# ---------- 6. Guardar ----------\n",
    "out = root / 'data' / 'processed'\n",
    "out.mkdir(exist_ok=True, parents=True)\n",
    "\n",
    "df_reduced.to_parquet(\n",
    "    out / 'tracks_feat_flat.parquet',\n",
    "    engine='pyarrow',\n",
    "    compression='snappy',\n",
    "    index=False\n",
    ")\n",
    "df_reduced.head()"
   ]
  },
  {
   "cell_type": "markdown",
   "metadata": {},
   "source": [
    "1.4 – Expandir playlists a nivel canción"
   ]
  },
  {
   "cell_type": "code",
   "execution_count": 6,
   "metadata": {},
   "outputs": [],
   "source": [
    "\n",
    "import pandas as pd, ast\n",
    "from pathlib import Path\n",
    "\n",
    "# root = Path(__file__).resolve().parents[1]\n",
    "# playlists_df = pd.read_pickle(root/'data/playlists_df.pkl')\n",
    "\n",
    "# ‘tracks’ es una lista de dicts → explode\n",
    "playlists_df['tracks'] = playlists_df['tracks'].apply(lambda x: x)  # ya es lista\n",
    "pl_tracks = playlists_df.explode('tracks', ignore_index=True)\n",
    "\n",
    "# Cada dict track → columnas planas\n",
    "tracks_cols = pd.json_normalize(pl_tracks['tracks'])\n",
    "playlist_track_df = pd.concat(\n",
    "    [pl_tracks[['pid','name']], tracks_cols], axis=1\n",
    ")\n"
   ]
  },
  {
   "cell_type": "markdown",
   "metadata": {},
   "source": [
    "1.5 – Unir features"
   ]
  },
  {
   "cell_type": "code",
   "execution_count": 7,
   "metadata": {},
   "outputs": [
    {
     "name": "stdout",
     "output_type": "stream",
     "text": [
      "                              track_uri                track_id  loudness\n",
      "0  spotify:track:66U0ASk1VHZsqIkpMjKX3B  66U0ASk1VHZsqIkpMjKX3B  0.816509\n",
      "1  spotify:track:5MhsZlmKJG6X5kTHkdwC4B  5MhsZlmKJG6X5kTHkdwC4B  0.785428\n",
      "2  spotify:track:0GZoB8h0kqXn7XFm4Sj06k  0GZoB8h0kqXn7XFm4Sj06k       NaN\n",
      "3  spotify:track:35kahykNu00FPysz3C2euR  35kahykNu00FPysz3C2euR       NaN\n",
      "4  spotify:track:3G6hD9B2ZHOsgf4WfNu7X1  3G6hD9B2ZHOsgf4WfNu7X1  0.920415\n",
      "NaN en loudness: 55.71103202846975 %\n"
     ]
    }
   ],
   "source": [
    "# 1️⃣  Extrae el track-id puro de la URI dentro de las playlists\n",
    "playlist_track_df['track_id'] = (\n",
    "    playlist_track_df['track_uri']\n",
    "      .str.split(':')\n",
    "      .str[-1]             # último fragmento después del segundo ':'\n",
    ")\n",
    "\n",
    "# -------------------------------------------\n",
    "# 2. Features-level  → asegúrate de tener track_id\n",
    "#    (tras el script de aplanado, la columna YA se llama track_id)\n",
    "# -------------------------------------------\n",
    "# Si viniera como 'track_uri', la renombramos:\n",
    "# tracks_feat_df.rename(columns={'track_uri': 'track_id'}, inplace=True)\n",
    "\n",
    "# -------------------------------------------\n",
    "# 3. Merge por track_id\n",
    "# -------------------------------------------\n",
    "playlist_track_full = playlist_track_df.merge(\n",
    "    tracks_feat_df,\n",
    "    on='track_id',\n",
    "    how='left',\n",
    "    validate='m:1'      # opcional: verifica que cada track_id exista máximo una vez en tracks_feat_df\n",
    ")\n",
    "\n",
    "# -------------------------------------------\n",
    "# 4. Chequeo rápido\n",
    "# -------------------------------------------\n",
    "print(\n",
    "    playlist_track_full[['track_uri', 'track_id', 'loudness']].head()\n",
    ")\n",
    "print(\"NaN en loudness:\",\n",
    "      playlist_track_full['loudness'].isna().mean()*100, \"%\")"
   ]
  },
  {
   "cell_type": "markdown",
   "metadata": {},
   "source": [
    "— Verificar % valor_faltante para features faltantes; tomar nota para imputación."
   ]
  },
  {
   "cell_type": "code",
   "execution_count": 8,
   "metadata": {},
   "outputs": [
    {
     "name": "stdout",
     "output_type": "stream",
     "text": [
      "genre_mb           100.0\n",
      "rating_votes       100.0\n",
      "rating_value       100.0\n",
      "danceability_hl    100.0\n",
      "top_genre_hl       100.0\n",
      "                   ...  \n",
      "track_id             0.0\n",
      "album_uri            0.0\n",
      "duration_ms          0.0\n",
      "artist_name          0.0\n",
      "track_uri            0.0\n",
      "Length: 101, dtype: float64\n"
     ]
    }
   ],
   "source": [
    "import pandas as pd\n",
    "from pathlib import Path\n",
    "\n",
    "# df = pd.read_parquet('data/processed/playlist_track_full.parquet')\n",
    "df = playlist_track_full\n",
    "\n",
    "# % de valores faltantes por columna\n",
    "na_pct = df.isna().mean() * 100\n",
    "na_pct = na_pct.sort_values(ascending=False)\n",
    "\n",
    "pd.set_option('display.max_columns', None)      # Muestra todas las columnas\n",
    "pd.set_option('display.width', None)            # Ajusta el ancho de impresión\n",
    "pd.set_option('display.expand_frame_repr', False)  # No dividir filas en varias líneas\n",
    "\n",
    "\n",
    "# Muestra las 20 peores columnas\n",
    "# print(na_pct.head(20))\n",
    "print(na_pct)\n",
    "\n",
    "# (Opcional) Guarda el resumen\n",
    "na_pct.to_csv('reports/missing_value_percentages.csv')\n",
    "\n",
    "# Guarda el dataframe en parquet\n",
    "playlist_track_full.to_parquet(\"data/processed/playlist_track_full.parquet\")\n",
    "\n"
   ]
  },
  {
   "cell_type": "markdown",
   "metadata": {},
   "source": [
    "1.6 - Guardado de clean Dataframes"
   ]
  },
  {
   "cell_type": "code",
   "execution_count": 9,
   "metadata": {},
   "outputs": [
    {
     "name": "stdout",
     "output_type": "stream",
     "text": [
      "Columnas eliminadas por 100 % NaN: 7\n",
      "Canciones con datos completos: (124096, 94)\n",
      "Filas imputadas: 156904\n"
     ]
    }
   ],
   "source": [
    "from pathlib import Path\n",
    "\n",
    "# ------------------------------------------------------------------\n",
    "# Asumimos que ya cargaste playlist_track_full  (merge completo)\n",
    "# ------------------------------------------------------------------\n",
    "df = playlist_track_full.copy()\n",
    "\n",
    "# ==============================================================\n",
    "# 1)  ELIMINAR COLUMNAS 100 % NaN\n",
    "# ==============================================================\n",
    "na_pct = df.isna().mean()\n",
    "cols_drop = na_pct[na_pct == 1.0].index\n",
    "df_clean = df.drop(columns=cols_drop)\n",
    "\n",
    "print(f\"Columnas eliminadas por 100 % NaN: {len(cols_drop)}\")\n",
    "# ---------------------------------------------------------------\n",
    "\n",
    "# ==============================================================\n",
    "# 2)  DataFrame SOLO con canciones cuyo registro está COMPLETO\n",
    "#     (sin NaN en ningún atributo numérico que nos interesa)\n",
    "# ==============================================================\n",
    "# Elegimos las columnas numéricas relevantes (float / int)\n",
    "num_cols = df_clean.select_dtypes(include=[\"number\"]).columns\n",
    "\n",
    "# Filtramos filas que NO tengan faltantes en esas columnas\n",
    "df_complete = df_clean.dropna(subset=num_cols).reset_index(drop=True)\n",
    "\n",
    "print(\"Canciones con datos completos:\", df_complete.shape)\n",
    "\n",
    "# ==============================================================\n",
    "# 3)  DataFrame con IMPUTACIÓN por media ► dentro de la misma playlist\n",
    "#     + bandera 'was_imputed' 1/0\n",
    "# ==============================================================\n",
    "df_imputed = df_clean.copy()\n",
    "\n",
    "# ---- 3.1  Calculamos medias por playlist y rellenamos ----------\n",
    "df_imputed[num_cols] = (\n",
    "    df_imputed\n",
    "      .groupby(\"pid\")[num_cols]\n",
    "      .transform(lambda col: col.fillna(col.mean()))\n",
    ")\n",
    "\n",
    "# ---- 3.2  Si aún quedan NaN (por ej. playlist sin ningún valor),\n",
    "#           rellena con la mediana global como fallback\n",
    "df_imputed[num_cols] = df_imputed[num_cols].fillna(df_imputed[num_cols].median())\n",
    "\n",
    "# ---- 3.3  Bandera de imputación --------------------------------\n",
    "was_na = df_clean[num_cols].isna().any(axis=1)   # True si la fila tenía al menos un NaN\n",
    "df_imputed[\"was_imputed\"] = was_na.astype(int)\n",
    "\n",
    "print(\"Filas imputadas:\", df_imputed['was_imputed'].sum())\n",
    "\n",
    "# ==============================================================\n",
    "# 4)  (Opcional) Guardar resultados\n",
    "# ==============================================================\n",
    "out = Path(\"data/processed\")\n",
    "out.mkdir(parents=True, exist_ok=True)\n",
    "\n",
    "df_complete.to_parquet(out / \"playlist_tracks_complete.parquet\", compression=\"snappy\")\n",
    "df_imputed.to_parquet(out / \"playlist_tracks_imputed.parquet\",  compression=\"snappy\")"
   ]
  },
  {
   "cell_type": "code",
   "execution_count": 10,
   "metadata": {},
   "outputs": [
    {
     "data": {
      "text/plain": [
       "(       pid    name  pos       artist_name                             track_uri                             artist_uri            track_name                             album_uri  duration_ms        album_name                track_id                                  mbid         bpm    energy  danceability_ll  loudness danceability_value  danceability_prob gender_value  gender_prob genre_dortmund_value  genre_dortmund_prob  genre_dortmund_alternative  genre_dortmund_blues  genre_dortmund_electronic  genre_dortmund_folkcountry  genre_dortmund_funksoulrnb  genre_dortmund_jazz  genre_dortmund_pop  genre_dortmund_raphiphop  genre_dortmund_rock genre_electronic_value  genre_electronic_prob  genre_electronic_ambient  genre_electronic_dnb  genre_electronic_house  genre_electronic_techno  genre_electronic_trance genre_rosamerica_value  genre_rosamerica_prob  genre_rosamerica_cla  genre_rosamerica_dan  genre_rosamerica_hip  genre_rosamerica_jaz  genre_rosamerica_pop  genre_rosamerica_rhy  genre_rosamerica_roc  genre_rosamerica_spe genre_tzanetakis_value  genre_tzanetakis_prob  genre_tzanetakis_blu  genre_tzanetakis_cla  genre_tzanetakis_cou  genre_tzanetakis_dis  genre_tzanetakis_hip  genre_tzanetakis_jaz  genre_tzanetakis_met  genre_tzanetakis_pop  genre_tzanetakis_reg  genre_tzanetakis_roc ismir04_rhythm_value  ismir04_rhythm_prob  ismir04_rhythm_ChaChaCha  ismir04_rhythm_Jive  ismir04_rhythm_Quickstep  ismir04_rhythm_Rumba-American  ismir04_rhythm_Rumba-International  ismir04_rhythm_Rumba-Misc  ismir04_rhythm_Samba  ismir04_rhythm_Tango  ismir04_rhythm_VienneseWaltz  ismir04_rhythm_Waltz mood_acoustic_value  mood_acoustic_prob mood_aggressive_value  mood_aggressive_prob mood_electronic_value  mood_electronic_prob mood_happy_value  mood_happy_prob mood_party_value  mood_party_prob mood_relaxed_value  mood_relaxed_prob mood_sad_value  mood_sad_prob moods_mirex_value  moods_mirex_prob timbre_value  timbre_prob tonal_atonal_value  tonal_atonal_prob voice_instrumental_value  voice_instrumental_prob\n",
       " 0  1000000   Party    0         AronChupa  spotify:track:66U0ASk1VHZsqIkpMjKX3B  spotify:artist:5vCOdeiQt9LyzdI87kt5Sh          Little Swing  spotify:album:4S5MLjwRSi0NJ5nikflYnZ       163809      Little Swing  66U0ASk1VHZsqIkpMjKX3B  302944eb-7cb7-4045-b99c-c440c362718f  125.898476  4.910242         1.067135  0.816509          danceable           0.941562       female     0.838504           electronic             0.958349                    0.012931              0.004027                   0.958349                    0.004129                    0.000782             0.007588            0.001415                  0.007156             0.003623                ambient               0.633230                  0.633230              0.022131                0.248523                 0.030331                 0.065786                    rhy               0.319759              0.017242              0.157987              0.295804              0.031568              0.147856              0.319759              0.008005              0.021779                    pop               0.201998              0.057697              0.080738              0.080722              0.100906              0.080744              0.134602              0.080795              0.201998              0.101015              0.080782                Tango             0.773513                  0.057953             0.015954                  0.004549                       0.008992                            0.022028                   0.010735              0.035496              0.773513                      0.067657              0.003123        not_acoustic            0.927582        not_aggressive              0.660399            electronic              0.905014        not_happy         0.967353            party         0.660808            relaxed           0.927280        not_sad       0.527017          Cluster4          0.253382         dark     0.999070             atonal           0.990423                    voice                 0.917732\n",
       " 1  1000000   Party    1         AronChupa  spotify:track:5MhsZlmKJG6X5kTHkdwC4B  spotify:artist:5vCOdeiQt9LyzdI87kt5Sh      I'm an Albatraoz  spotify:album:1qHVYbxQ6IS8YRviorKDJI       166848  I'm an Albatraoz  5MhsZlmKJG6X5kTHkdwC4B  466973b8-6f13-4cdd-aed5-1c8cd6b26fb4  128.037704  4.296187         0.937844  0.785428      not_danceable           0.507221         male     0.590108           electronic             0.991147                    0.001149              0.001203                   0.991147                    0.000679                    0.000228             0.004117            0.000108                  0.000572             0.000797                  house               0.759690                  0.145308              0.018037                0.759690                 0.035563                 0.041402                    hip               0.431846              0.014970              0.198387              0.431846              0.089087              0.050573              0.197856              0.010846              0.006436                    roc               0.315679              0.039472              0.078931              0.063129              0.052604              0.045090              0.157818              0.063133              0.105224              0.078920              0.315679                Tango             0.851566                  0.069085             0.027921                  0.003872                       0.008992                            0.006563                   0.002090              0.018909              0.851566                      0.008959              0.002044        not_acoustic            0.999994        not_aggressive              1.000000            electronic              0.917834        not_happy         0.986929        not_party         0.999164            relaxed           0.808827        not_sad       0.692220          Cluster4          0.334271       bright     0.597991             atonal           0.913942             instrumental                 0.751203\n",
       " 2  1000000   Party    4             Lorde  spotify:track:3G6hD9B2ZHOsgf4WfNu7X1  spotify:artist:163tK9Wjr9P9DmM0AVK7lm                  Team  spotify:album:0rmhjUgoVa17LZuS8xWQ3v       193058      Pure Heroine  3G6hD9B2ZHOsgf4WfNu7X1  0c14d62c-01f2-4b44-ab8d-a65c97405fde   99.882507  4.392409         1.130975  0.920415          danceable           0.999133       female     0.721461           electronic             0.860394                    0.027483              0.015242                   0.860394                    0.042829                    0.002202             0.015942            0.013363                  0.007874             0.014671                  house               0.426002                  0.297171              0.108914                0.426002                 0.048630                 0.119284                    rhy               0.473656              0.007912              0.099371              0.143291              0.017134              0.226016              0.473656              0.018283              0.014337                    jaz               0.310667              0.062067              0.034475              0.103434              0.062097              0.155272              0.310667              0.044347              0.062079              0.062082              0.103480            ChaChaCha             0.883623                  0.883623             0.009685                  0.003651                       0.009970                            0.032320                   0.004501              0.016806              0.007797                      0.029669              0.001980        not_acoustic            0.984700            aggressive              0.717427            electronic              0.715190        not_happy         0.945679            party         0.774370        not_relaxed           0.579097        not_sad       0.765254          Cluster5          0.619994         dark     0.791275             atonal           0.986704                    voice                 0.988464\n",
       " 3  1000016  school    0            Alesso  spotify:track:6WQLkih8nE0JdUCEyLaGnQ  spotify:artist:4AVFqumd2ogHFlRbKIjp1t  Heroes (we could be)  spotify:album:3yqh9ozOA2cAgPUJaveAuG       210012           Forever  6WQLkih8nE0JdUCEyLaGnQ  e608914f-2ff1-4a46-99f0-57fa38ae04d6  125.980873  2.897875         1.058157  0.840827          danceable           0.999994       female     0.693479           electronic             0.914271                    0.041034              0.009111                   0.914271                    0.018788                    0.000727             0.003867            0.003554                  0.000694             0.007955                 trance               0.372966                  0.349274              0.052637                0.193606                 0.031518                 0.372966                    pop               0.759889              0.001067              0.084875              0.063193              0.027307              0.759889              0.042204              0.020546              0.000921                    jaz               0.313975              0.062661              0.034817              0.104476              0.078432              0.156924              0.313975              0.044817              0.062736              0.062736              0.078426            ChaChaCha             0.256939                  0.256939             0.118988                  0.028248                       0.076212                            0.070221                   0.037244              0.151571              0.125094                      0.113810              0.021673        not_acoustic            0.993324        not_aggressive              1.000000            electronic              0.904654            happy         0.654065        not_party         0.999938            relaxed           0.808817        not_sad       0.568072          Cluster5          0.269019       bright     0.752845             atonal           0.915288                    voice                 0.882508\n",
       " 4  1000016  school    3  American Authors  spotify:track:5j9iuo3tMmQIfnEEQOOjxh  spotify:artist:0MlOPi3zIDMVrfA9R04Fe3   Best Day Of My Life  spotify:album:2AAVQqcejMEgNpdg2raPYE       194240   Oh, What A Life  5j9iuo3tMmQIfnEEQOOjxh  fa1ba393-7c36-49f0-8ab5-203780fbdac8  100.032249  2.978403         1.249340  0.841262          danceable           0.906955         male     0.843516           electronic             0.975202                    0.009657              0.001990                   0.975202                    0.009181                    0.000140             0.001173            0.000618                  0.000141             0.001898                  house               0.561322                  0.309502              0.020659                0.561322                 0.021018                 0.087499                    pop               0.389148              0.042615              0.037135              0.031413              0.050701              0.389148              0.240986              0.188568              0.019434                    jaz               0.303679              0.060736              0.033717              0.060684              0.060692              0.151763              0.303679              0.050581              0.075858              0.050570              0.151719                Tango             0.478510                  0.174333             0.095344                  0.012895                       0.019005                            0.035579                   0.029288              0.043759              0.478510                      0.100820              0.010468        not_acoustic            0.848759        not_aggressive              0.948229        not_electronic              0.622996        not_happy         0.971731            party         0.510150            relaxed           0.687704        not_sad       0.508194          Cluster2          0.383826       bright     0.966806              tonal           0.823357                    voice                 0.595400,\n",
       "        pid   name  pos artist_name                             track_uri                             artist_uri                                         track_name                             album_uri  duration_ms           album_name                track_id                                  mbid         bpm    energy  danceability_ll  loudness danceability_value  danceability_prob gender_value  gender_prob genre_dortmund_value  genre_dortmund_prob  genre_dortmund_alternative  genre_dortmund_blues  genre_dortmund_electronic  genre_dortmund_folkcountry  genre_dortmund_funksoulrnb  genre_dortmund_jazz  genre_dortmund_pop  genre_dortmund_raphiphop  genre_dortmund_rock genre_electronic_value  genre_electronic_prob  genre_electronic_ambient  genre_electronic_dnb  genre_electronic_house  genre_electronic_techno  genre_electronic_trance genre_rosamerica_value  genre_rosamerica_prob  genre_rosamerica_cla  genre_rosamerica_dan  genre_rosamerica_hip  genre_rosamerica_jaz  genre_rosamerica_pop  genre_rosamerica_rhy  genre_rosamerica_roc  genre_rosamerica_spe genre_tzanetakis_value  genre_tzanetakis_prob  genre_tzanetakis_blu  genre_tzanetakis_cla  genre_tzanetakis_cou  genre_tzanetakis_dis  genre_tzanetakis_hip  genre_tzanetakis_jaz  genre_tzanetakis_met  genre_tzanetakis_pop  genre_tzanetakis_reg  genre_tzanetakis_roc ismir04_rhythm_value  ismir04_rhythm_prob  ismir04_rhythm_ChaChaCha  ismir04_rhythm_Jive  ismir04_rhythm_Quickstep  ismir04_rhythm_Rumba-American  ismir04_rhythm_Rumba-International  ismir04_rhythm_Rumba-Misc  ismir04_rhythm_Samba  ismir04_rhythm_Tango  ismir04_rhythm_VienneseWaltz  ismir04_rhythm_Waltz mood_acoustic_value  mood_acoustic_prob mood_aggressive_value  mood_aggressive_prob mood_electronic_value  mood_electronic_prob mood_happy_value  mood_happy_prob mood_party_value  mood_party_prob mood_relaxed_value  mood_relaxed_prob mood_sad_value  mood_sad_prob moods_mirex_value  moods_mirex_prob timbre_value  timbre_prob tonal_atonal_value  tonal_atonal_prob voice_instrumental_value  voice_instrumental_prob  was_imputed\n",
       " 0  1000000  Party    0   AronChupa  spotify:track:66U0ASk1VHZsqIkpMjKX3B  spotify:artist:5vCOdeiQt9LyzdI87kt5Sh                                       Little Swing  spotify:album:4S5MLjwRSi0NJ5nikflYnZ       163809         Little Swing  66U0ASk1VHZsqIkpMjKX3B  302944eb-7cb7-4045-b99c-c440c362718f  125.898476  4.910242         1.067135  0.816509          danceable           0.941562       female     0.838504           electronic             0.958349                    0.012931              0.004027                   0.958349                    0.004129                    0.000782             0.007588            0.001415                  0.007156             0.003623                ambient               0.633230                  0.633230              0.022131                0.248523                 0.030331                 0.065786                    rhy               0.319759              0.017242              0.157987              0.295804              0.031568              0.147856              0.319759              0.008005              0.021779                    pop               0.201998              0.057697              0.080738              0.080722              0.100906              0.080744              0.134602              0.080795              0.201998              0.101015              0.080782                Tango             0.773513                  0.057953             0.015954                  0.004549                       0.008992                            0.022028                   0.010735              0.035496              0.773513                      0.067657              0.003123        not_acoustic            0.927582        not_aggressive              0.660399            electronic              0.905014        not_happy         0.967353            party         0.660808            relaxed           0.927280        not_sad       0.527017          Cluster4          0.253382         dark     0.999070             atonal           0.990423                    voice                 0.917732            0\n",
       " 1  1000000  Party    1   AronChupa  spotify:track:5MhsZlmKJG6X5kTHkdwC4B  spotify:artist:5vCOdeiQt9LyzdI87kt5Sh                                   I'm an Albatraoz  spotify:album:1qHVYbxQ6IS8YRviorKDJI       166848     I'm an Albatraoz  5MhsZlmKJG6X5kTHkdwC4B  466973b8-6f13-4cdd-aed5-1c8cd6b26fb4  128.037704  4.296187         0.937844  0.785428      not_danceable           0.507221         male     0.590108           electronic             0.991147                    0.001149              0.001203                   0.991147                    0.000679                    0.000228             0.004117            0.000108                  0.000572             0.000797                  house               0.759690                  0.145308              0.018037                0.759690                 0.035563                 0.041402                    hip               0.431846              0.014970              0.198387              0.431846              0.089087              0.050573              0.197856              0.010846              0.006436                    roc               0.315679              0.039472              0.078931              0.063129              0.052604              0.045090              0.157818              0.063133              0.105224              0.078920              0.315679                Tango             0.851566                  0.069085             0.027921                  0.003872                       0.008992                            0.006563                   0.002090              0.018909              0.851566                      0.008959              0.002044        not_acoustic            0.999994        not_aggressive              1.000000            electronic              0.917834        not_happy         0.986929        not_party         0.999164            relaxed           0.808827        not_sad       0.692220          Cluster4          0.334271       bright     0.597991             atonal           0.913942             instrumental                 0.751203            0\n",
       " 2  1000000  Party    2       Lorde  spotify:track:0GZoB8h0kqXn7XFm4Sj06k  spotify:artist:163tK9Wjr9P9DmM0AVK7lm  Yellow Flicker Beat - From The Hunger Games: M...  spotify:album:4UEPxQx0cTcYNsE0n32MHV       232506  Yellow Flicker Beat  0GZoB8h0kqXn7XFm4Sj06k  4b789101-f2f6-45f9-8a20-16705010a7a0  117.939562  4.532946         1.045318  0.840784                NaN           0.815972          NaN     0.716691                  NaN             0.936630                    0.013854              0.006824                   0.936630                    0.015879                    0.001071             0.009216            0.004962                  0.005201             0.006364                    NaN               0.606307                  0.358569              0.049694                0.478072                 0.038175                 0.075490                    NaN               0.408420              0.013375              0.151915              0.290313              0.045929              0.141482              0.330424              0.012378              0.014184                    NaN               0.276115              0.053079              0.064714              0.082428              0.071869              0.093702              0.201029              0.062758              0.123101              0.080672              0.166647                  NaN             0.836234                  0.336887             0.017853                  0.004024                       0.009318                            0.020304                   0.005775              0.023737              0.544292                      0.035428              0.002382                 NaN            0.970759                   NaN              0.792609                   NaN              0.846012              NaN         0.966654              NaN         0.811448                NaN           0.771735            NaN       0.661497               NaN          0.402549          NaN     0.796112                NaN           0.963689                      NaN                 0.885800            1\n",
       " 3  1000000  Party    3       Lorde  spotify:track:35kahykNu00FPysz3C2euR  spotify:artist:163tK9Wjr9P9DmM0AVK7lm                                  White Teeth Teens  spotify:album:0rmhjUgoVa17LZuS8xWQ3v       216600         Pure Heroine  35kahykNu00FPysz3C2euR  172cc9c9-3725-452e-81fa-b26f7c3c6c31  117.939562  4.532946         1.045318  0.840784                NaN           0.815972          NaN     0.716691                  NaN             0.936630                    0.013854              0.006824                   0.936630                    0.015879                    0.001071             0.009216            0.004962                  0.005201             0.006364                    NaN               0.606307                  0.358569              0.049694                0.478072                 0.038175                 0.075490                    NaN               0.408420              0.013375              0.151915              0.290313              0.045929              0.141482              0.330424              0.012378              0.014184                    NaN               0.276115              0.053079              0.064714              0.082428              0.071869              0.093702              0.201029              0.062758              0.123101              0.080672              0.166647                  NaN             0.836234                  0.336887             0.017853                  0.004024                       0.009318                            0.020304                   0.005775              0.023737              0.544292                      0.035428              0.002382                 NaN            0.970759                   NaN              0.792609                   NaN              0.846012              NaN         0.966654              NaN         0.811448                NaN           0.771735            NaN       0.661497               NaN          0.402549          NaN     0.796112                NaN           0.963689                      NaN                 0.885800            1\n",
       " 4  1000000  Party    4       Lorde  spotify:track:3G6hD9B2ZHOsgf4WfNu7X1  spotify:artist:163tK9Wjr9P9DmM0AVK7lm                                               Team  spotify:album:0rmhjUgoVa17LZuS8xWQ3v       193058         Pure Heroine  3G6hD9B2ZHOsgf4WfNu7X1  0c14d62c-01f2-4b44-ab8d-a65c97405fde   99.882507  4.392409         1.130975  0.920415          danceable           0.999133       female     0.721461           electronic             0.860394                    0.027483              0.015242                   0.860394                    0.042829                    0.002202             0.015942            0.013363                  0.007874             0.014671                  house               0.426002                  0.297171              0.108914                0.426002                 0.048630                 0.119284                    rhy               0.473656              0.007912              0.099371              0.143291              0.017134              0.226016              0.473656              0.018283              0.014337                    jaz               0.310667              0.062067              0.034475              0.103434              0.062097              0.155272              0.310667              0.044347              0.062079              0.062082              0.103480            ChaChaCha             0.883623                  0.883623             0.009685                  0.003651                       0.009970                            0.032320                   0.004501              0.016806              0.007797                      0.029669              0.001980        not_acoustic            0.984700            aggressive              0.717427            electronic              0.715190        not_happy         0.945679            party         0.774370        not_relaxed           0.579097        not_sad       0.765254          Cluster5          0.619994         dark     0.791275             atonal           0.986704                    voice                 0.988464            0)"
      ]
     },
     "execution_count": 10,
     "metadata": {},
     "output_type": "execute_result"
    }
   ],
   "source": [
    "df_complete.head(), df_imputed.head()"
   ]
  },
  {
   "cell_type": "markdown",
   "metadata": {},
   "source": [
    "## 2. Analisis Exploratorio (EDA)"
   ]
  },
  {
   "cell_type": "markdown",
   "metadata": {},
   "source": [
    "2.1. Dimensiones y tipos de variables"
   ]
  },
  {
   "cell_type": "code",
   "execution_count": null,
   "metadata": {},
   "outputs": [],
   "source": [
    "# Dimensiones y tipos de variables\n",
    "print(\"Shape:\", df_complete.shape)\n",
    "print(\"\\nTipos de variables:\")\n",
    "print(df_complete.dtypes.value_counts())\n",
    "print(\"\\nPrimeras filas:\")\n",
    "display(df_complete.head())"
   ]
  },
  {
   "cell_type": "markdown",
   "metadata": {},
   "source": [
    "2.2. Estadísticas descriptivas de variables numéricas\n"
   ]
  },
  {
   "cell_type": "code",
   "execution_count": null,
   "metadata": {},
   "outputs": [],
   "source": [
    "# Estadísticas descriptivas de variables numéricas\n",
    "display(df_complete.describe())"
   ]
  },
  {
   "cell_type": "markdown",
   "metadata": {},
   "source": [
    "2.3. Distribución de longitud de playlists\n"
   ]
  },
  {
   "cell_type": "code",
   "execution_count": null,
   "metadata": {},
   "outputs": [],
   "source": [
    "# Distribución de longitud de playlists\n",
    "import matplotlib.pyplot as plt\n",
    "playlist_lengths = df_complete.groupby('pid').size()\n",
    "plt.figure(figsize=(8,4))\n",
    "playlist_lengths.hist(bins=30)\n",
    "plt.title(\"Distribución de longitud de playlists\")\n",
    "plt.xlabel(\"Número de canciones\")\n",
    "plt.ylabel(\"Cantidad de playlists\")\n",
    "plt.show()\n",
    "print(\"Media:\", playlist_lengths.mean(), \"Máx:\", playlist_lengths.max(), \"Min:\", playlist_lengths.min())"
   ]
  },
  {
   "cell_type": "markdown",
   "metadata": {},
   "source": [
    "2.4. Análisis de géneros y moods\n"
   ]
  },
  {
   "cell_type": "code",
   "execution_count": null,
   "metadata": {},
   "outputs": [],
   "source": [
    "# Análisis de géneros y moods\n",
    "top_genres = df_complete['genre_dortmund_value'].value_counts().head(10)\n",
    "top_genres.plot(kind='bar')\n",
    "plt.title(\"Top 10 géneros (genre_dortmund_value)\")\n",
    "plt.ylabel(\"Frecuencia\")\n",
    "plt.show()\n",
    "\n",
    "top_moods = df_complete['mood_party_value'].value_counts().head(10)\n",
    "top_moods.plot(kind='bar', color='orange')\n",
    "plt.title(\"Top 10 moods (mood_party_value)\")\n",
    "plt.ylabel(\"Frecuencia\")\n",
    "plt.show()"
   ]
  },
  {
   "cell_type": "markdown",
   "metadata": {},
   "source": [
    "2.5. Correlaciones numéricas\n"
   ]
  },
  {
   "cell_type": "code",
   "execution_count": null,
   "metadata": {},
   "outputs": [],
   "source": [
    "# Correlaciones numéricas\n",
    "import seaborn as sns\n",
    "num_cols = ['bpm', 'energy', 'danceability_ll', 'loudness']  # Ajusta según tus columnas\n",
    "corr = df_complete[num_cols].corr(method='pearson')\n",
    "plt.figure(figsize=(8,6))\n",
    "sns.heatmap(corr, annot=True, cmap='coolwarm')\n",
    "plt.title(\"Matriz de correlación (Pearson)\")\n",
    "plt.show()"
   ]
  },
  {
   "cell_type": "markdown",
   "metadata": {},
   "source": [
    "2.6. Outliers numéricos\n"
   ]
  },
  {
   "cell_type": "code",
   "execution_count": null,
   "metadata": {},
   "outputs": [],
   "source": [
    "# Outliers numéricos con boxplots\n",
    "for col in ['bpm', 'energy', 'danceability_ll', 'loudness']:\n",
    "    plt.figure()\n",
    "    sns.boxplot(x=df_complete[col])\n",
    "    plt.title(f\"Boxplot de {col}\")\n",
    "    plt.show()"
   ]
  },
  {
   "cell_type": "markdown",
   "metadata": {},
   "source": [
    "2.7. Valores faltantes\n"
   ]
  },
  {
   "cell_type": "code",
   "execution_count": null,
   "metadata": {},
   "outputs": [],
   "source": [
    "# Porcentaje de valores faltantes por columna\n",
    "na_pct = df_complete.isna().mean() * 100\n",
    "na_pct = na_pct.sort_values(ascending=False)\n",
    "display(na_pct)\n",
    "\n",
    "# Visualización rápida (opcional)\n",
    "import missingno as msno\n",
    "msno.matrix(df_complete.sample(1000, random_state=1))  # Muestra 1000 filas aleatorias\n",
    "plt.show()"
   ]
  },
  {
   "cell_type": "markdown",
   "metadata": {},
   "source": [
    "2.8. Canciones y artistas más frecuentes\n"
   ]
  },
  {
   "cell_type": "code",
   "execution_count": null,
   "metadata": {},
   "outputs": [],
   "source": [
    "# Canciones más repetidas\n",
    "top_tracks = df_complete['track_name'].value_counts().head(10)\n",
    "print(\"Canciones más repetidas:\")\n",
    "display(top_tracks)\n",
    "\n",
    "# Artistas más frecuentes\n",
    "top_artists = df_complete['artist_name'].value_counts().head(10)\n",
    "print(\"Artistas más frecuentes:\")\n",
    "display(top_artists)"
   ]
  },
  {
   "cell_type": "markdown",
   "metadata": {},
   "source": [
    "2.9. Diversidad de géneros/artistas por playlist\n"
   ]
  },
  {
   "cell_type": "code",
   "execution_count": null,
   "metadata": {},
   "outputs": [],
   "source": [
    "# Diversidad de géneros/artistas por playlist\n",
    "diversity = df_complete.groupby('pid').agg({\n",
    "    'genre_dortmund_value': pd.Series.nunique,\n",
    "    'artist_name': pd.Series.nunique\n",
    "}).rename(columns={'genre_dortmund_value': 'n_genres', 'artist_name': 'n_artists'})\n",
    "display(diversity.describe())"
   ]
  },
  {
   "cell_type": "markdown",
   "metadata": {},
   "source": [
    "2.10. Pairplot de variables numéricas\n"
   ]
  },
  {
   "cell_type": "code",
   "execution_count": null,
   "metadata": {},
   "outputs": [],
   "source": [
    "# Pairplot de variables numéricas\n",
    "sns.pairplot(df_complete[num_cols].dropna().sample(500, random_state=1))  # Muestra 500 filas\n",
    "plt.suptitle(\"Pairplot de variables numéricas\", y=1.02)\n",
    "plt.show()"
   ]
  }
 ],
 "metadata": {
  "kernelspec": {
   "display_name": "venv",
   "language": "python",
   "name": "python3"
  },
  "language_info": {
   "codemirror_mode": {
    "name": "ipython",
    "version": 3
   },
   "file_extension": ".py",
   "mimetype": "text/x-python",
   "name": "python",
   "nbconvert_exporter": "python",
   "pygments_lexer": "ipython3",
   "version": "3.12.3"
  }
 },
 "nbformat": 4,
 "nbformat_minor": 2
}
